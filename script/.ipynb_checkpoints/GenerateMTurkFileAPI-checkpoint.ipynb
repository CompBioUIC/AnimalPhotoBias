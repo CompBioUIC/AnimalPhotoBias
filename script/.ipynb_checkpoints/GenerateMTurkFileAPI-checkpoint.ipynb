{
 "cells": [
  {
   "cell_type": "code",
   "execution_count": 1,
   "metadata": {
    "collapsed": false
   },
   "outputs": [],
   "source": [
    "import htmltag as HT\n",
    "import random\n",
    "from htmltag import table, td, tr"
   ]
  },
  {
   "cell_type": "code",
   "execution_count": 2,
   "metadata": {
    "collapsed": true
   },
   "outputs": [],
   "source": [
    "# Constants\n",
    "maxImgs = 20"
   ]
  },
  {
   "cell_type": "code",
   "execution_count": 3,
   "metadata": {
    "collapsed": false
   },
   "outputs": [],
   "source": [
    "def genImageID(begin,stop):\n",
    "    count = 0\n",
    "    listNum = []\n",
    "    start= begin\n",
    "    end = stop\n",
    "    while count < maxImgs:\n",
    "        num = random.randrange(start,end)\n",
    "        if num in listNum: continue\n",
    "        listNum.append(num)\n",
    "        count += 1\n",
    "        \n",
    "    return listNum"
   ]
  },
  {
   "cell_type": "code",
   "execution_count": 4,
   "metadata": {
    "collapsed": false
   },
   "outputs": [],
   "source": [
    "imageID = genImageID(1,100)\n",
    "links = [\"http://pachy.cs.uic.edu:5000/api/image/src/\"+str(i)+\"/?resize_pix_w=500\" for i in imageID[0:maxImgs]]\n",
    "imgTags = []\n",
    "radioShare = HT.input\n",
    "for url in links:\n",
    "    imgTags.append(HT.img(src = url,alt = \"Unavailable\"))"
   ]
  },
  {
   "cell_type": "code",
   "execution_count": 8,
   "metadata": {
    "collapsed": false
   },
   "outputs": [],
   "source": [
    "# logic to create the radio buttons\n",
    "hiddenField = []\n",
    "shareRadio = []\n",
    "notShareRadio = []\n",
    "\n",
    "for i in range(maxImgs):\n",
    "    hiddenField.append(HT.input(type='hidden',name=imageID[i],value=imageID[i]))\n",
    "    shareRadio.append(HT.input(type='radio',value='share',name=imageID[i]) + \"Share\")\n",
    "    notShareRadio.append(HT.input(type='radio',value='noShare',name=imageID[i]) + \"Do Not Share\")"
   ]
  },
  {
   "cell_type": "code",
   "execution_count": 9,
   "metadata": {
    "collapsed": false
   },
   "outputs": [],
   "source": [
    "tdTags = []\n",
    "for i in range(maxImgs):\n",
    "    tdTags.append(HT.td(HT.center(HT.HTML(hiddenField[i]),HT.HTML(shareRadio[i]),HT.HTML(notShareRadio[i])),HT.HTML(imgTags[i])))\n",
    "\n",
    "trTags = []\n",
    "for i in range(0,maxImgs,2):\n",
    "    trTags.append(HT.tr(HT.HTML(tdTags[i]),HT.HTML(tdTags[i+1])))\n"
   ]
  },
  {
   "cell_type": "code",
   "execution_count": 21,
   "metadata": {
    "collapsed": false
   },
   "outputs": [],
   "source": [
    "bodyTxt = HT.table(HT.HTML('  \\n'.join(trTags)),border=\"1\")"
   ]
  },
  {
   "cell_type": "code",
   "execution_count": 22,
   "metadata": {
    "collapsed": false
   },
   "outputs": [
    {
     "name": "stdout",
     "output_type": "stream",
     "text": [
      "<table border=\"1\"><tr><td><center><input type=\"hidden\" value=\"68\" name=\"68\"><input type=\"radio\" value=\"share\" name=\"68\">Share<input type=\"radio\" value=\"noShare\" name=\"68\">Do Not Share</center><img src=\"http://pachy.cs.uic.edu:5000/api/image/src/68/?resize_pix_w=500\" alt=\"Unavailable\"></td><td><center><input type=\"hidden\" value=\"17\" name=\"17\"><input type=\"radio\" value=\"share\" name=\"17\">Share<input type=\"radio\" value=\"noShare\" name=\"17\">Do Not Share</center><img src=\"http://pachy.cs.uic.edu:5000/api/image/src/17/?resize_pix_w=500\" alt=\"Unavailable\"></td></tr>  \n",
      "<tr><td><center><input type=\"hidden\" value=\"26\" name=\"26\"><input type=\"radio\" value=\"share\" name=\"26\">Share<input type=\"radio\" value=\"noShare\" name=\"26\">Do Not Share</center><img src=\"http://pachy.cs.uic.edu:5000/api/image/src/26/?resize_pix_w=500\" alt=\"Unavailable\"></td><td><center><input type=\"hidden\" value=\"77\" name=\"77\"><input type=\"radio\" value=\"share\" name=\"77\">Share<input type=\"radio\" value=\"noShare\" name=\"77\">Do Not Share</center><img src=\"http://pachy.cs.uic.edu:5000/api/image/src/77/?resize_pix_w=500\" alt=\"Unavailable\"></td></tr>  \n",
      "<tr><td><center><input type=\"hidden\" value=\"16\" name=\"16\"><input type=\"radio\" value=\"share\" name=\"16\">Share<input type=\"radio\" value=\"noShare\" name=\"16\">Do Not Share</center><img src=\"http://pachy.cs.uic.edu:5000/api/image/src/16/?resize_pix_w=500\" alt=\"Unavailable\"></td><td><center><input type=\"hidden\" value=\"24\" name=\"24\"><input type=\"radio\" value=\"share\" name=\"24\">Share<input type=\"radio\" value=\"noShare\" name=\"24\">Do Not Share</center><img src=\"http://pachy.cs.uic.edu:5000/api/image/src/24/?resize_pix_w=500\" alt=\"Unavailable\"></td></tr>  \n",
      "<tr><td><center><input type=\"hidden\" value=\"11\" name=\"11\"><input type=\"radio\" value=\"share\" name=\"11\">Share<input type=\"radio\" value=\"noShare\" name=\"11\">Do Not Share</center><img src=\"http://pachy.cs.uic.edu:5000/api/image/src/11/?resize_pix_w=500\" alt=\"Unavailable\"></td><td><center><input type=\"hidden\" value=\"80\" name=\"80\"><input type=\"radio\" value=\"share\" name=\"80\">Share<input type=\"radio\" value=\"noShare\" name=\"80\">Do Not Share</center><img src=\"http://pachy.cs.uic.edu:5000/api/image/src/80/?resize_pix_w=500\" alt=\"Unavailable\"></td></tr>  \n",
      "<tr><td><center><input type=\"hidden\" value=\"47\" name=\"47\"><input type=\"radio\" value=\"share\" name=\"47\">Share<input type=\"radio\" value=\"noShare\" name=\"47\">Do Not Share</center><img src=\"http://pachy.cs.uic.edu:5000/api/image/src/47/?resize_pix_w=500\" alt=\"Unavailable\"></td><td><center><input type=\"hidden\" value=\"72\" name=\"72\"><input type=\"radio\" value=\"share\" name=\"72\">Share<input type=\"radio\" value=\"noShare\" name=\"72\">Do Not Share</center><img src=\"http://pachy.cs.uic.edu:5000/api/image/src/72/?resize_pix_w=500\" alt=\"Unavailable\"></td></tr></table>\n"
     ]
    }
   ],
   "source": [
    "print(bodyTxt)"
   ]
  },
  {
   "cell_type": "code",
   "execution_count": 23,
   "metadata": {
    "collapsed": false
   },
   "outputs": [],
   "source": [
    "headFile = open(\"files/header.txt\",\"r\")\n",
    "tailFile = open(\"files/tail.txt\",\"r\")\n",
    "outputFile = open(\"files/sampleMTurk.question\",\"w\")\n",
    "\n",
    "for line in headFile:\n",
    "    outputFile.write(line)\n",
    "    \n",
    "outputFile.write(bodyTxt)\n",
    "\n",
    "for line in tailFile:\n",
    "    outputFile.write(line)\n",
    "\n",
    "headFile.close()\n",
    "tailFile.close()\n",
    "outputFile.close()"
   ]
  },
  {
   "cell_type": "code",
   "execution_count": 114,
   "metadata": {
    "collapsed": false
   },
   "outputs": [],
   "source": []
  },
  {
   "cell_type": "code",
   "execution_count": null,
   "metadata": {
    "collapsed": true
   },
   "outputs": [],
   "source": []
  }
 ],
 "metadata": {
  "kernelspec": {
   "display_name": "Python 3",
   "language": "python",
   "name": "python3"
  },
  "language_info": {
   "codemirror_mode": {
    "name": "ipython",
    "version": 3
   },
   "file_extension": ".py",
   "mimetype": "text/x-python",
   "name": "python",
   "nbconvert_exporter": "python",
   "pygments_lexer": "ipython3",
   "version": "3.5.1"
  }
 },
 "nbformat": 4,
 "nbformat_minor": 0
}
