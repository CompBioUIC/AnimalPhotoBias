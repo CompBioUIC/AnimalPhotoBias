{
 "cells": [
  {
   "cell_type": "code",
   "execution_count": 8,
   "metadata": {
    "collapsed": false
   },
   "outputs": [
    {
     "data": {
      "text/plain": [
       "\"\\nCreated date : Sunday, 27th March\\nAuthor : Sreejith Menon\\nDescription : API to get annotation ID's and related features given GID\\nLocation :  Google Drive/PythonCode/AnimalPhotoBias/Script\\n\""
      ]
     },
     "execution_count": 8,
     "metadata": {},
     "output_type": "execute_result"
    }
   ],
   "source": [
    "\"\"\"\n",
    "Created date : Sunday, 27th March\n",
    "Author : Sreejith Menon\n",
    "Description : API to get annotation ID's and related features given GID\n",
    "Location :  Google Drive/PythonCode/AnimalPhotoBias/Script\n",
    "\"\"\""
   ]
  },
  {
   "cell_type": "code",
   "execution_count": 9,
   "metadata": {
    "collapsed": false
   },
   "outputs": [],
   "source": [
    "import csv\n",
    "import ComputeBiasStatsAPI as CB\n",
    "import importlib\n",
    "# importlib.reload(CB) # un-comment if there are any changes made to API"
   ]
  },
  {
   "cell_type": "code",
   "execution_count": 10,
   "metadata": {
    "collapsed": false
   },
   "outputs": [],
   "source": [
    "reader = csv.reader(open(\"../data/consolidatedHITResults.csv\",\"r\"))\n",
    "head = reader.__next__()\n",
    "\n",
    "data = {}\n",
    "for row in reader:\n",
    "    data[row[0]] = row[1:]"
   ]
  },
  {
   "cell_type": "code",
   "execution_count": 11,
   "metadata": {
    "collapsed": false
   },
   "outputs": [],
   "source": [
    "# Extracts all the annotation ID's from IBEIS\n",
    "aidList = []\n",
    "for gid in data.keys():\n",
    "    aid = CB.getAnnotID(int(gid))\n",
    "    data[gid].append(aid)"
   ]
  },
  {
   "cell_type": "code",
   "execution_count": 12,
   "metadata": {
    "collapsed": false
   },
   "outputs": [],
   "source": [
    "# Extracts all feature info based on annotation ID's from IBEIS\n",
    "for gid in data.keys():\n",
    "    if data[gid][3] != None:\n",
    "        aid = data[gid][3]\n",
    "        spec_text = CB.getImageFeature(aid,\"species_texts\")\n",
    "        data[gid].append(spec_text)\n",
    "        sex_text = CB.getImageFeature(aid,\"sex_texts\")\n",
    "        data[gid].append(sex_text)\n",
    "        est_age = CB.getImageFeature(aid,\"age_months_est\")\n",
    "        data[gid].append(est_age)\n",
    "        exemplar = CB.getImageFeature(aid,\"exemplar_flags\")\n",
    "        data[gid].append(exemplar)\n",
    "        qual_text = CB.getImageFeature(aid,\"quality_texts\")\n",
    "        data[gid].append(qual_text)\n",
    "    else:\n",
    "        data[gid].append('NULL')\n",
    "        data[gid].append('NULL')\n",
    "        data[gid].append('NULL')\n",
    "        data[gid].append('NULL')\n",
    "        data[gid].append('NULL')"
   ]
  },
  {
   "cell_type": "code",
   "execution_count": 13,
   "metadata": {
    "collapsed": false
   },
   "outputs": [],
   "source": [
    "# Write all the extracted info to a CSV file\n",
    "head += ['ANNOTATION_ID','SPECIES','SEX','AGE_MONTHS','EXEMPLAR_FLAG','IMAGE_QUALITY']\n",
    "writeFL = open(\"../data/consolidatedHITResultsWithInfo.csv\",\"w\")\n",
    "writer = csv.writer(writeFL)\n",
    "writer.writerow(head)\n",
    "for row in data.keys():\n",
    "    writer.writerow([row] + data[row])\n",
    "writeFL.close()"
   ]
  },
  {
   "cell_type": "code",
   "execution_count": null,
   "metadata": {
    "collapsed": true
   },
   "outputs": [],
   "source": []
  }
 ],
 "metadata": {
  "kernelspec": {
   "display_name": "Python 3",
   "language": "python",
   "name": "python3"
  },
  "language_info": {
   "codemirror_mode": {
    "name": "ipython",
    "version": 3
   },
   "file_extension": ".py",
   "mimetype": "text/x-python",
   "name": "python",
   "nbconvert_exporter": "python",
   "pygments_lexer": "ipython3",
   "version": "3.5.1"
  }
 },
 "nbformat": 4,
 "nbformat_minor": 0
}
