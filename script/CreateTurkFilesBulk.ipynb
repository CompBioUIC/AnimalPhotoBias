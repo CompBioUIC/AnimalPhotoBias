{
 "cells": [
  {
   "cell_type": "markdown",
   "metadata": {
    "collapsed": false
   },
   "source": [
    "### Script for creating the m-turk files in bulk\n",
    "\n",
    "There are 58 unique contributors and each contributor has a contiguous set of image contributions\n",
    "\n",
    "Get contributed images per user:\n",
    "http://pachy.cs.uic.edu:5000/api/contributor/gids/?contrib_rowid_list=[1]\n",
    "\n",
    "Get all contributor IDs\n",
    "http://pachy.cs.uic.edu:5000/api/contributor/valid_rowids/"
   ]
  },
  {
   "cell_type": "code",
   "execution_count": 59,
   "metadata": {
    "collapsed": false
   },
   "outputs": [
    {
     "data": {
      "text/plain": [
       "<module 'GenerateMTurkFileAPI' from '/Users/sreejithmenon/Google Drive/PythonCode/AnimalPhotoBias/script/GenerateMTurkFileAPI.py'>"
      ]
     },
     "execution_count": 59,
     "metadata": {},
     "output_type": "execute_result"
    }
   ],
   "source": [
    "import csv\n",
    "import ComputeBiasStatsAPI as CB\n",
    "import GenerateMTurkFileAPI as GM\n",
    "import importlib\n",
    "import random\n",
    "\n",
    "# un-comment if there are any changes made to API\n",
    "importlib.reload(CB) \n",
    "importlib.reload(GM) "
   ]
  },
  {
   "cell_type": "code",
   "execution_count": 71,
   "metadata": {
    "collapsed": false
   },
   "outputs": [],
   "source": [
    "contributorImages = {}\n",
    "for contributor in range(1,59):\n",
    "     contributorImages[contributor] = CB.getContributorGID(contributor)\n",
    "\n",
    "contributorImages.pop(52)\n",
    "contributorImages.pop(57)\n",
    "contributorImages.pop(8)\n",
    "contributorImages.pop(11)\n",
    "contributorImages.pop(17)\n",
    "contributorImages.pop(32)\n",
    "contributorImages.pop(34)\n",
    "contributorImages.pop(41)\n",
    "\n",
    "contributors = list(contributorImages.keys())\n",
    "\n",
    "selectedImgContributors = []\n",
    "for i in range(100):\n",
    "    selectedImgContributors.append(contributors[random.randrange(0,50)])"
   ]
  },
  {
   "cell_type": "code",
   "execution_count": null,
   "metadata": {
    "collapsed": false
   },
   "outputs": [],
   "source": [
    "GM.generateMTurkFile(1236,1280,\"/tmp/testSandJob.question\")"
   ]
  },
  {
   "cell_type": "code",
   "execution_count": 72,
   "metadata": {
    "collapsed": false
   },
   "outputs": [
    {
     "name": "stdout",
     "output_type": "stream",
     "text": [
      "214\n",
      "394\n",
      "249\n",
      "327\n",
      "182\n",
      "62\n",
      "172\n",
      "249\n",
      "40\n",
      "104\n",
      "103\n",
      "381\n",
      "241\n",
      "325\n",
      "178\n",
      "105\n",
      "327\n",
      "381\n",
      "214\n",
      "53\n",
      "86\n",
      "455\n",
      "39\n",
      "163\n",
      "325\n",
      "62\n",
      "281\n",
      "214\n",
      "198\n",
      "36\n",
      "103\n",
      "387\n",
      "39\n",
      "387\n",
      "104\n",
      "178\n",
      "249\n",
      "104\n",
      "455\n",
      "281\n",
      "111\n",
      "36\n",
      "59\n",
      "394\n",
      "225\n",
      "387\n",
      "45\n",
      "241\n",
      "214\n",
      "281\n",
      "225\n",
      "327\n",
      "214\n",
      "53\n",
      "366\n",
      "36\n",
      "138\n",
      "128\n",
      "62\n",
      "103\n",
      "128\n",
      "63\n",
      "131\n",
      "36\n",
      "53\n",
      "35\n",
      "241\n",
      "388\n",
      "249\n",
      "388\n",
      "172\n",
      "103\n",
      "241\n",
      "86\n",
      "388\n",
      "62\n",
      "241\n",
      "62\n",
      "381\n",
      "36\n",
      "281\n",
      "225\n",
      "85\n",
      "241\n",
      "40\n",
      "131\n",
      "327\n",
      "116\n",
      "35\n",
      "128\n",
      "39\n",
      "63\n",
      "49\n",
      "36\n",
      "116\n",
      "198\n",
      "116\n",
      "104\n",
      "1052\n",
      "249\n"
     ]
    }
   ],
   "source": [
    "argToAPI = []\n",
    "for index in selectedImgContributors:\n",
    "    imgList = contributorImages[index]\n",
    "    print(len(imgList))\n",
    "    minGID = min(imgList)\n",
    "    maxGID = max(imgList)\n",
    "    argToAPI.append([index,minGID,maxGID])"
   ]
  },
  {
   "cell_type": "code",
   "execution_count": 75,
   "metadata": {
    "collapsed": false
   },
   "outputs": [],
   "source": [
    "jobImageMap= {}"
   ]
  },
  {
   "cell_type": "code",
   "execution_count": 76,
   "metadata": {
    "collapsed": false
   },
   "outputs": [
    {
     "name": "stdout",
     "output_type": "stream",
     "text": [
      "photo_album_1.question\n",
      "photo_album_2.question\n",
      "photo_album_3.question\n",
      "photo_album_4.question\n",
      "photo_album_5.question\n",
      "photo_album_6.question\n",
      "photo_album_7.question\n",
      "photo_album_8.question\n",
      "photo_album_9.question\n",
      "photo_album_10.question\n",
      "photo_album_11.question\n",
      "photo_album_12.question\n",
      "photo_album_13.question\n",
      "photo_album_14.question\n",
      "photo_album_15.question\n",
      "photo_album_16.question\n",
      "photo_album_17.question\n",
      "photo_album_18.question\n",
      "photo_album_19.question\n",
      "photo_album_20.question\n",
      "photo_album_21.question\n",
      "photo_album_22.question\n",
      "photo_album_23.question\n",
      "photo_album_24.question\n",
      "photo_album_25.question\n",
      "photo_album_26.question\n",
      "photo_album_27.question\n",
      "photo_album_28.question\n",
      "photo_album_29.question\n",
      "photo_album_30.question\n",
      "photo_album_31.question\n",
      "photo_album_32.question\n",
      "photo_album_33.question\n",
      "photo_album_34.question\n",
      "photo_album_35.question\n",
      "photo_album_36.question\n",
      "photo_album_37.question\n",
      "photo_album_38.question\n",
      "photo_album_39.question\n",
      "photo_album_40.question\n",
      "photo_album_41.question\n",
      "photo_album_42.question\n",
      "photo_album_43.question\n",
      "photo_album_44.question\n",
      "photo_album_45.question\n",
      "photo_album_46.question\n",
      "photo_album_47.question\n",
      "photo_album_48.question\n",
      "photo_album_49.question\n",
      "photo_album_50.question\n",
      "photo_album_51.question\n",
      "photo_album_52.question\n",
      "photo_album_53.question\n",
      "photo_album_54.question\n",
      "photo_album_55.question\n",
      "photo_album_56.question\n",
      "photo_album_57.question\n",
      "photo_album_58.question\n",
      "photo_album_59.question\n",
      "photo_album_60.question\n",
      "photo_album_61.question\n",
      "photo_album_62.question\n",
      "photo_album_63.question\n",
      "photo_album_64.question\n",
      "photo_album_65.question\n",
      "photo_album_66.question\n",
      "photo_album_67.question\n",
      "photo_album_68.question\n",
      "photo_album_69.question\n",
      "photo_album_70.question\n",
      "photo_album_71.question\n",
      "photo_album_72.question\n",
      "photo_album_73.question\n",
      "photo_album_74.question\n",
      "photo_album_75.question\n",
      "photo_album_76.question\n",
      "photo_album_77.question\n",
      "photo_album_78.question\n",
      "photo_album_79.question\n",
      "photo_album_80.question\n",
      "photo_album_81.question\n",
      "photo_album_82.question\n",
      "photo_album_83.question\n",
      "photo_album_84.question\n",
      "photo_album_85.question\n",
      "photo_album_86.question\n",
      "photo_album_87.question\n",
      "photo_album_88.question\n",
      "photo_album_89.question\n",
      "photo_album_90.question\n",
      "photo_album_91.question\n",
      "photo_album_92.question\n",
      "photo_album_93.question\n",
      "photo_album_94.question\n",
      "photo_album_95.question\n",
      "photo_album_96.question\n",
      "photo_album_97.question\n",
      "photo_album_98.question\n",
      "photo_album_99.question\n",
      "photo_album_100.question\n"
     ]
    }
   ],
   "source": [
    "for i in range(0,100):\n",
    "    flName = str(\"photo_album_%d.question\" %(i+1))\n",
    "    tup = argToAPI[i]\n",
    "    slctdImgs = GM.generateMTurkFile(tup[1],tup[2],str(\"/tmp/files/\" + flName))\n",
    "    jobImageMap[flName] = slctdImgs\n",
    "    i += 1\n",
    "    print(flName)"
   ]
  },
  {
   "cell_type": "code",
   "execution_count": 78,
   "metadata": {
    "collapsed": false
   },
   "outputs": [
    {
     "data": {
      "text/plain": [
       "100"
      ]
     },
     "execution_count": 78,
     "metadata": {},
     "output_type": "execute_result"
    }
   ],
   "source": [
    "len(jobImageMap.keys())"
   ]
  },
  {
   "cell_type": "code",
   "execution_count": null,
   "metadata": {
    "collapsed": true
   },
   "outputs": [],
   "source": []
  }
 ],
 "metadata": {
  "kernelspec": {
   "display_name": "Python 3",
   "language": "python",
   "name": "python3"
  },
  "language_info": {
   "codemirror_mode": {
    "name": "ipython",
    "version": 3
   },
   "file_extension": ".py",
   "mimetype": "text/x-python",
   "name": "python",
   "nbconvert_exporter": "python",
   "pygments_lexer": "ipython3",
   "version": "3.5.1"
  }
 },
 "nbformat": 4,
 "nbformat_minor": 0
}
