{
 "cells": [
  {
   "cell_type": "code",
   "execution_count": 1,
   "metadata": {
    "collapsed": false
   },
   "outputs": [],
   "source": [
    "import htmltag as HT\n",
    "import random\n",
    "from htmltag import table, td, tr"
   ]
  },
  {
   "cell_type": "code",
   "execution_count": 24,
   "metadata": {
    "collapsed": true
   },
   "outputs": [],
   "source": [
    "# Constants\n",
    "maxImgs = 20"
   ]
  },
  {
   "cell_type": "code",
   "execution_count": 25,
   "metadata": {
    "collapsed": false
   },
   "outputs": [],
   "source": [
    "def genImageID(begin,stop):\n",
    "    count = 0\n",
    "    listNum = []\n",
    "    start= begin\n",
    "    end = stop\n",
    "    while count < maxImgs:\n",
    "        num = random.randrange(start,end)\n",
    "        if num in listNum: continue\n",
    "        listNum.append(num)\n",
    "        count += 1\n",
    "        \n",
    "    return listNum"
   ]
  },
  {
   "cell_type": "code",
   "execution_count": 26,
   "metadata": {
    "collapsed": false
   },
   "outputs": [],
   "source": [
    "imageID = genImageID(1,100)\n",
    "links = [\"http://pachy.cs.uic.edu:5000/api/image/src/\"+str(i)+\"/?resize_pix_w=500\" for i in imageID[0:maxImgs]]\n",
    "imgTags = []\n",
    "radioShare = HT.input\n",
    "for url in links:\n",
    "    imgTags.append(HT.img(src = url,alt = \"Unavailable\"))"
   ]
  },
  {
   "cell_type": "code",
   "execution_count": 27,
   "metadata": {
    "collapsed": false
   },
   "outputs": [],
   "source": [
    "# logic to create the radio buttons\n",
    "hiddenField = []\n",
    "shareRadio = []\n",
    "notShareRadio = []\n",
    "\n",
    "for i in range(maxImgs):\n",
    "    hiddenField.append(HT.input(type='hidden',name=imageID[i],value=imageID[i]))\n",
    "    shareRadio.append(HT.input(type='radio',value='share',name=imageID[i]) + \"Share\")\n",
    "    notShareRadio.append(HT.input(type='radio',value='noShare',name=imageID[i]) + \"Do Not Share\")"
   ]
  },
  {
   "cell_type": "code",
   "execution_count": 28,
   "metadata": {
    "collapsed": false
   },
   "outputs": [],
   "source": [
    "tdTags = []\n",
    "for i in range(maxImgs):\n",
    "    tdTags.append(HT.td(HT.center(HT.HTML(hiddenField[i]),HT.HTML(shareRadio[i]),HT.HTML(notShareRadio[i])),HT.HTML(imgTags[i])))\n",
    "\n",
    "trTags = []\n",
    "for i in range(0,maxImgs,2):\n",
    "    trTags.append(HT.tr(HT.HTML(tdTags[i]),HT.HTML(tdTags[i+1])))\n"
   ]
  },
  {
   "cell_type": "code",
   "execution_count": 29,
   "metadata": {
    "collapsed": false
   },
   "outputs": [],
   "source": [
    "bodyTxt = HT.table(HT.HTML('  \\n'.join(trTags)),border=\"1\")"
   ]
  },
  {
   "cell_type": "code",
   "execution_count": 31,
   "metadata": {
    "collapsed": false
   },
   "outputs": [],
   "source": [
    "headFile = open(\"files/header.txt\",\"r\")\n",
    "tailFile = open(\"files/tail.txt\",\"r\")\n",
    "outputFile = open(\"files/sampleMTurk.question\",\"w\")\n",
    "\n",
    "for line in headFile:\n",
    "    outputFile.write(line)\n",
    "    \n",
    "outputFile.write(bodyTxt)\n",
    "\n",
    "for line in tailFile:\n",
    "    outputFile.write(line)\n",
    "\n",
    "headFile.close()\n",
    "tailFile.close()\n",
    "outputFile.close()"
   ]
  },
  {
   "cell_type": "code",
   "execution_count": 114,
   "metadata": {
    "collapsed": false
   },
   "outputs": [],
   "source": []
  },
  {
   "cell_type": "code",
   "execution_count": null,
   "metadata": {
    "collapsed": true
   },
   "outputs": [],
   "source": []
  }
 ],
 "metadata": {
  "kernelspec": {
   "display_name": "Python 3",
   "language": "python",
   "name": "python3"
  },
  "language_info": {
   "codemirror_mode": {
    "name": "ipython",
    "version": 3
   },
   "file_extension": ".py",
   "mimetype": "text/x-python",
   "name": "python",
   "nbconvert_exporter": "python",
   "pygments_lexer": "ipython3",
   "version": "3.5.1"
  }
 },
 "nbformat": 4,
 "nbformat_minor": 0
}
