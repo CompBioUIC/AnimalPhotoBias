{
 "cells": [
  {
   "cell_type": "code",
   "execution_count": 1,
   "metadata": {
    "collapsed": false
   },
   "outputs": [
    {
     "data": {
      "text/plain": [
       "' Date : 05th November 2015\\n    Author : Sreejith Menon\\n'"
      ]
     },
     "execution_count": 1,
     "metadata": {},
     "output_type": "execute_result"
    }
   ],
   "source": [
    "\"\"\" Date : 05th November 2015\n",
    "    Author : Sreejith Menon\n",
    "\"\"\""
   ]
  },
  {
   "cell_type": "code",
   "execution_count": 2,
   "metadata": {
    "collapsed": false
   },
   "outputs": [],
   "source": [
    "import csv\n",
    "import matplotlib.pyplot as plt\n",
    "import numpy as np"
   ]
  },
  {
   "cell_type": "code",
   "execution_count": 3,
   "metadata": {
    "collapsed": true
   },
   "outputs": [],
   "source": [
    "data_dict = csv.DictReader(open(\"../data/giraffe_masai.csv\",\"r\"))\n",
    "person_id_name = {}"
   ]
  },
  {
   "cell_type": "code",
   "execution_count": 4,
   "metadata": {
    "collapsed": true
   },
   "outputs": [],
   "source": [
    "for row in data_dict:\n",
    "    search_string = \"Person\"\n",
    "    index = row[\"image_contributor\"].find(search_string)\n",
    "\n",
    "    if index != -1:\n",
    "        annotation_id = int(row[\"annotation_id\"])\n",
    "        contributor = row[\"image_contributor\"].strip().split('<COMMA>')\n",
    "        contributor_name = contributor[1].strip()\n",
    "        person_id_name[annotation_id] = contributor_name"
   ]
  },
  {
   "cell_type": "code",
   "execution_count": 5,
   "metadata": {
    "collapsed": false
   },
   "outputs": [],
   "source": [
    "picture_counts = {}\n",
    "\n",
    "for row in person_id_name:\n",
    "    name = person_id_name[row]\n",
    "    if name in picture_counts.keys():\n",
    "        curr_count = picture_counts[name]\n",
    "        picture_counts[name] = curr_count + 1\n",
    "    else:\n",
    "        picture_counts[name] = 1"
   ]
  },
  {
   "cell_type": "code",
   "execution_count": 6,
   "metadata": {
    "collapsed": false
   },
   "outputs": [
    {
     "name": "stdout",
     "output_type": "stream",
     "text": [
      "{\"Person 'B'\": 364, \"Person 'C'\": 90, \"Person 'D'\": 104, \"Person 'A'\": 520}\n"
     ]
    }
   ],
   "source": [
    "print(picture_counts)"
   ]
  },
  {
   "cell_type": "code",
   "execution_count": 7,
   "metadata": {
    "collapsed": false
   },
   "outputs": [
    {
     "name": "stdout",
     "output_type": "stream",
     "text": [
      "[\"Person 'B'\", \"Person 'C'\", \"Person 'D'\", \"Person 'A'\"]\n",
      "[364, 90, 104, 520]\n"
     ]
    }
   ],
   "source": [
    "\"\"\"Plotting data from dictionary\"\"\"\n",
    "x = []\n",
    "y = []\n",
    "for row in picture_counts.keys():\n",
    "    y.append(picture_counts[row])\n",
    "    x.append(row)\n",
    "   \n",
    "print(x)\n",
    "print(y)"
   ]
  },
  {
   "cell_type": "code",
   "execution_count": 8,
   "metadata": {
    "collapsed": false
   },
   "outputs": [
    {
     "name": "stdout",
     "output_type": "stream",
     "text": [
      "\n"
     ]
    }
   ],
   "source": [
    "dict_length = len(picture_counts)\n",
    "\n",
    "X = np.arange(dict_length)\n",
    "\n",
    "Figure = plt.figure()\n",
    "Axis = Figure.add_subplot(1,1,1)\n",
    "for i in range(0,dict_length):\n",
    "    Axis.bar(X[i], y[i], align='center',width=0.5)\n",
    "\n",
    "Axis.set_xticks(X)\n",
    "xtickNames = Axis.set_xticklabels(x)\n",
    "plt.setp(x)\n",
    "plt.xticks(rotation=20)\n",
    "ymax = max(y) + 1\n",
    "plt.ylim(0,ymax)\n",
    "\n",
    "plt.show()"
   ]
  },
  {
   "cell_type": "code",
   "execution_count": null,
   "metadata": {
    "collapsed": true
   },
   "outputs": [],
   "source": []
  }
 ],
 "metadata": {
  "kernelspec": {
   "display_name": "Python 3",
   "language": "python",
   "name": "python3"
  },
  "language_info": {
   "codemirror_mode": {
    "name": "ipython",
    "version": 3
   },
   "file_extension": ".py",
   "mimetype": "text/x-python",
   "name": "python",
   "nbconvert_exporter": "python",
   "pygments_lexer": "ipython3",
   "version": "3.4.3"
  }
 },
 "nbformat": 4,
 "nbformat_minor": 0
}
